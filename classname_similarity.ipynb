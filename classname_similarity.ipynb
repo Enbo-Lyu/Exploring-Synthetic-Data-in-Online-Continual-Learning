{
 "cells": [
  {
   "cell_type": "code",
   "execution_count": 8,
   "id": "f30aa257-0f75-4d04-b56a-b6d6996cfa80",
   "metadata": {
    "tags": []
   },
   "outputs": [
    {
     "name": "stdout",
     "output_type": "stream",
     "text": [
      "Files already downloaded and verified\n",
      "60\n"
     ]
    }
   ],
   "source": [
    "# import torch\n",
    "import torch\n",
    "import os\n",
    "from torch import cat, Tensor\n",
    "from torch.nn import Module\n",
    "from torch.utils.data import DataLoader\n",
    "from torch.utils.data.dataset import Subset, ConcatDataset, TensorDataset\n",
    "from torch.nn import CrossEntropyLoss\n",
    "from torch.optim import SGD\n",
    "from torchvision import datasets, transforms\n",
    "import torch.optim.lr_scheduler # ?\n",
    "from torchvision.transforms import Compose, ToTensor, Normalize, RandomCrop, CenterCrop, RandomHorizontalFlip, Resize\n",
    "from torchvision.transforms.functional import center_crop\n",
    "from torchvision.models import resnet18, ResNet18_Weights\n",
    "from torchvision.utils import save_image\n",
    "from torchvision.transforms.functional import pil_to_tensor\n",
    "import torchvision\n",
    "import torchvision.transforms as transforms\n",
    "from PIL import Image\n",
    "import os\n",
    "\n",
    "stats = ((0.5, 0.5, 0.5), (0.5, 0.5, 0.5))\n",
    "\n",
    "transform = transform_train = Compose([\n",
    "    # Resize(224),\n",
    "    # Resize(384),\n",
    "    # RandomHorizontalFlip(),\n",
    "    ToTensor(),\n",
    "    # Normalize(*stats,inplace=True)\n",
    "])\n",
    "\n",
    "# Load the CIFAR-100 training set\n",
    "trainset = torchvision.datasets.CIFAR100(root='data', train=True,download=True, transform=transform)\n",
    "\n",
    "name_list = trainset.classes\n",
    "\n",
    "import json\n",
    "\n",
    "def read_json(json_path):\n",
    "# Step 1: Open the JSON file\n",
    "    with open(json_path, 'r') as file:\n",
    "    # Step 2: Load the JSON data\n",
    "        data = json.load(file)\n",
    "    return data\n",
    "\n",
    "# name_dict = read_json('/scratch/local/ssd/enbo/saved_data/imagenet_label_name.json')\n",
    "# name_list = [item for key, item in name_dict.items()]\n",
    "order_list = [[36, 0, 54, 5, 20],\n",
    " [22, 45, 13, 83, 19],\n",
    " [26, 73, 16, 62, 33],\n",
    " [34, 98, 24, 74, 53],\n",
    " [10, 94, 51, 4, 32],\n",
    " [38, 81, 50, 40, 41],\n",
    " [30, 89, 69, 64, 21],\n",
    " [84, 14, 88, 49, 68],\n",
    " [6, 80, 57, 65, 46],\n",
    " [9, 91, 48, 72, 31],\n",
    " [76, 7, 47, 8, 1],\n",
    " [61, 75, 63, 18, 86],\n",
    " [59, 70, 43, 85, 95],\n",
    " [27, 93, 35, 25, 82],\n",
    " [44, 56, 67, 66, 37],\n",
    " [60, 11, 2, 78, 52],\n",
    " [97, 39, 55, 3, 99],\n",
    " [29, 71, 23, 28, 90],\n",
    " [87, 15, 92, 17, 77],\n",
    " [12, 42, 96, 79, 58]]\n",
    "\n",
    "syn_classes = [order[3:] for order in order_list]\n",
    "syn_classes = [item for lists in syn_classes for item in lists]\n",
    "\n",
    "# syn_classes = [5, 20, 83, 19, 62, 33, 74, 53, 4, 32, 40, 41, 64, 21, 49, 68, 65, 46, 72, 31, 8, 1, 18, 86, 85, 95, 25, 82, 66, 37, 78, 52, 3, 99, 28, 90, 17, 77, 79, 58]\n",
    "real_classes = list(set([i for i in range(100)]) - set(syn_classes))\n",
    "print(len(real_classes))"
   ]
  },
  {
   "cell_type": "code",
   "execution_count": 9,
   "id": "5a02b00d-5362-49f2-b637-d4eb96cb7652",
   "metadata": {
    "tags": []
   },
   "outputs": [
    {
     "name": "stdout",
     "output_type": "stream",
     "text": [
      "Current default GPU index: 6\n",
      "Current default GPU name: NVIDIA A40\n"
     ]
    }
   ],
   "source": [
    "import torch\n",
    "torch.cuda.set_device(6)\n",
    "if torch.cuda.is_available():\n",
    "    current_gpu = torch.cuda.current_device()\n",
    "    print(f\"Current default GPU index: {current_gpu}\")\n",
    "    print(f\"Current default GPU name: {torch.cuda.get_device_name(current_gpu)}\")\n",
    "else:\n",
    "    print(\"No GPUs available.\")"
   ]
  },
  {
   "cell_type": "code",
   "execution_count": 10,
   "id": "398e9d59-a827-4586-9a80-b69060ec5a65",
   "metadata": {
    "tags": []
   },
   "outputs": [],
   "source": [
    "integer_to_name = {i: name_list[i] for i in range(100)}\n",
    "name_to_integer = {name_list[i]: i for i in range(100)}"
   ]
  },
  {
   "cell_type": "code",
   "execution_count": 11,
   "id": "15192c91-78a7-4dac-a8bb-b1db30caef46",
   "metadata": {
    "tags": []
   },
   "outputs": [],
   "source": [
    "# Importing necessary libraries\n",
    "from sentence_transformers import SentenceTransformer\n",
    "from sklearn.metrics.pairwise import cosine_similarity\n",
    "\n",
    "# Initializing the Sentence Transformer model using BERT with mean-tokens pooling\n",
    "model = SentenceTransformer('bert-base-nli-mean-tokens')\n",
    "# model = SentenceTransformer(\"all-mpnet-base-v2\")\n"
   ]
  },
  {
   "cell_type": "code",
   "execution_count": 12,
   "id": "d153e12f-b773-4b03-bdb1-8161341b6f4a",
   "metadata": {
    "tags": []
   },
   "outputs": [],
   "source": [
    "real_class_names = [name_list[i] for i in real_classes]\n",
    "syn_class_names = [name_list[i] for i in syn_classes]"
   ]
  },
  {
   "cell_type": "code",
   "execution_count": 13,
   "id": "e0e2ee9f-426b-4a12-8f9b-039635c2b5eb",
   "metadata": {
    "tags": []
   },
   "outputs": [
    {
     "data": {
      "text/plain": [
       "40"
      ]
     },
     "execution_count": 13,
     "metadata": {},
     "output_type": "execute_result"
    }
   ],
   "source": [
    "len(syn_class_names)"
   ]
  },
  {
   "cell_type": "code",
   "execution_count": 14,
   "id": "f925dfbf-0143-4e97-87a4-1ab87be99d4b",
   "metadata": {
    "tags": []
   },
   "outputs": [
    {
     "name": "stdout",
     "output_type": "stream",
     "text": [
      "Most similar to bed is television with a similarity score of 0.64\n",
      "Most similar to chair is table with a similarity score of 0.81\n",
      "Most similar to sweet_pepper is mushroom with a similarity score of 0.63\n",
      "Most similar to cattle is tractor with a similarity score of 0.72\n",
      "Most similar to poppy is rose with a similarity score of 0.79\n",
      "Most similar to forest is pine_tree with a similarity score of 0.77\n",
      "Most similar to shrew is porcupine with a similarity score of 0.75\n",
      "Most similar to orange is can with a similarity score of 0.73\n",
      "Most similar to beaver is otter with a similarity score of 0.73\n",
      "Most similar to flatfish is crab with a similarity score of 0.74\n",
      "Most similar to lamp is bottle with a similarity score of 0.78\n",
      "Most similar to lawn_mower is tractor with a similarity score of 0.73\n",
      "Most similar to possum is cockroach with a similarity score of 0.78\n",
      "Most similar to chimpanzee is dinosaur with a similarity score of 0.65\n",
      "Most similar to mountain is bridge with a similarity score of 0.63\n",
      "Most similar to road is bridge with a similarity score of 0.70\n",
      "Most similar to rabbit is squirrel with a similarity score of 0.79\n",
      "Most similar to man is boy with a similarity score of 0.88\n",
      "Most similar to seal is bottle with a similarity score of 0.78\n",
      "Most similar to elephant is leopard with a similarity score of 0.60\n",
      "Most similar to bicycle is motorcycle with a similarity score of 0.78\n",
      "Most similar to aquarium_fish is crab with a similarity score of 0.68\n",
      "Most similar to caterpillar is cockroach with a similarity score of 0.63\n",
      "Most similar to telephone is clock with a similarity score of 0.65\n",
      "Most similar to tank is bottle with a similarity score of 0.79\n",
      "Most similar to whale is shark with a similarity score of 0.81\n",
      "Most similar to couch is television with a similarity score of 0.75\n",
      "Most similar to sunflower is tulip with a similarity score of 0.70\n",
      "Most similar to raccoon is tiger with a similarity score of 0.69\n",
      "Most similar to house is wardrobe with a similarity score of 0.68\n",
      "Most similar to snake is lizard with a similarity score of 0.73\n",
      "Most similar to oak_tree is maple_tree with a similarity score of 0.86\n",
      "Most similar to bear is wolf with a similarity score of 0.78\n",
      "Most similar to worm is skunk with a similarity score of 0.75\n",
      "Most similar to cup is bottle with a similarity score of 0.87\n",
      "Most similar to train is streetcar with a similarity score of 0.68\n",
      "Most similar to castle is clock with a similarity score of 0.61\n",
      "Most similar to snail is crab with a similarity score of 0.71\n",
      "Most similar to spider is squirrel with a similarity score of 0.70\n",
      "Most similar to pickup_truck is tractor with a similarity score of 0.69\n"
     ]
    }
   ],
   "source": [
    "embeddings_40 = model.encode(syn_class_names)\n",
    "embeddings_60 = model.encode(real_class_names)\n",
    "\n",
    "# Calculating the cosine similarity matrix between the two sets of embeddings\n",
    "similarity_matrix = cosine_similarity(embeddings_40, embeddings_60)\n",
    "\n",
    "# Finding the most similar class from the 60 for each of the 40 classes\n",
    "most_similar_classes = []\n",
    "dict_40to60_name = {}\n",
    "for index, similarities in enumerate(similarity_matrix):\n",
    "    # Get the index of the maximum similarity score in this row\n",
    "    max_index = similarities.argmax()\n",
    "    # Append the corresponding class from class_names_60\n",
    "    most_similar_classes.append(real_class_names[max_index])\n",
    "    dict_40to60_name[syn_class_names[index]] = real_class_names[max_index]\n",
    "    # Optionally print each pair\n",
    "    print(f\"Most similar to {syn_class_names[index]} is {real_class_names[max_index]} with a similarity score of {similarities[max_index]:.2f}\")\n"
   ]
  },
  {
   "cell_type": "code",
   "execution_count": 15,
   "id": "7064a334-cae5-4060-995a-85a283bb7778",
   "metadata": {
    "tags": []
   },
   "outputs": [
    {
     "name": "stdout",
     "output_type": "stream",
     "text": [
      "{'bed': 'television', 'chair': 'table', 'sweet_pepper': 'mushroom', 'cattle': 'tractor', 'poppy': 'rose', 'forest': 'pine_tree', 'shrew': 'porcupine', 'orange': 'can', 'beaver': 'otter', 'flatfish': 'crab', 'lamp': 'bottle', 'lawn_mower': 'tractor', 'possum': 'cockroach', 'chimpanzee': 'dinosaur', 'mountain': 'bridge', 'road': 'bridge', 'rabbit': 'squirrel', 'man': 'boy', 'seal': 'bottle', 'elephant': 'leopard', 'bicycle': 'motorcycle', 'aquarium_fish': 'crab', 'caterpillar': 'cockroach', 'telephone': 'clock', 'tank': 'bottle', 'whale': 'shark', 'couch': 'television', 'sunflower': 'tulip', 'raccoon': 'tiger', 'house': 'wardrobe', 'snake': 'lizard', 'oak_tree': 'maple_tree', 'bear': 'wolf', 'worm': 'skunk', 'cup': 'bottle', 'train': 'streetcar', 'castle': 'clock', 'snail': 'crab', 'spider': 'squirrel', 'pickup_truck': 'tractor'}\n"
     ]
    }
   ],
   "source": [
    "print(dict_40to60_name)"
   ]
  },
  {
   "cell_type": "code",
   "execution_count": 16,
   "id": "0b0826e3-077b-4f21-bc5f-78a0f1e9999f",
   "metadata": {
    "tags": []
   },
   "outputs": [],
   "source": [
    "dict_40to60_id = {}\n",
    "for key in dict_40to60_name:\n",
    "    dict_40to60_id[name_to_integer[key]] = name_to_integer[dict_40to60_name[key]]\n",
    "    "
   ]
  },
  {
   "cell_type": "code",
   "execution_count": 17,
   "id": "f0915d64-e8ff-48b9-af96-15d9b7c7fcfb",
   "metadata": {
    "tags": []
   },
   "outputs": [
    {
     "name": "stdout",
     "output_type": "stream",
     "text": [
      "{5: 87, 20: 84, 83: 51, 19: 89, 62: 70, 33: 59, 74: 63, 53: 16, 4: 55, 32: 26, 40: 9, 41: 89, 64: 24, 21: 29, 49: 12, 68: 12, 65: 80, 46: 11, 72: 9, 31: 42, 8: 48, 1: 26, 18: 24, 86: 22, 85: 9, 95: 73, 25: 87, 82: 92, 66: 88, 37: 94, 78: 44, 52: 47, 3: 97, 99: 75, 28: 9, 90: 81, 17: 22, 77: 26, 79: 80, 58: 89}\n"
     ]
    }
   ],
   "source": [
    "print(dict_40to60_id)"
   ]
  },
  {
   "cell_type": "code",
   "execution_count": 18,
   "id": "80413ecb-b1b7-4921-af69-f4650580a645",
   "metadata": {
    "tags": []
   },
   "outputs": [],
   "source": [
    "with open('/storage3/enbo/saved_data/cifar100_dict_40synfrom60real_id.json', 'w') as json_file:\n",
    "    json.dump(dict_40to60_id, json_file, indent=4)"
   ]
  },
  {
   "cell_type": "code",
   "execution_count": 19,
   "id": "bc37cc14-e112-4c30-b29b-048df64738ed",
   "metadata": {
    "tags": []
   },
   "outputs": [],
   "source": [
    "with open('/storage3/enbo/saved_data/cifar100_dict_40synfrom60real_name.json', 'w') as json_file:\n",
    "    json.dump(dict_40to60_name, json_file, indent=4)"
   ]
  },
  {
   "cell_type": "code",
   "execution_count": 25,
   "id": "fe413697-bb57-4b93-8ddd-419977ccf0e6",
   "metadata": {
    "tags": []
   },
   "outputs": [
    {
     "name": "stdout",
     "output_type": "stream",
     "text": [
      "Files already downloaded and verified\n",
      "Files already downloaded and verified\n",
      "[5, 20, 83, 19, 62, 33, 74, 53, 4, 32, 40, 41, 64, 21, 49, 68, 65, 46, 72, 31, 8, 1, 18, 86, 85, 95, 25, 82, 66, 37, 78, 52, 3, 99, 28, 90, 17, 77, 79, 58]\n"
     ]
    }
   ],
   "source": [
    "from avalanche.benchmarks import SplitMNIST, SplitCIFAR100\n",
    "\n",
    "# sythnthesis classes\n",
    "benchmark = SplitCIFAR100(n_experiences=20,\n",
    "                          seed = 41,             \n",
    "                          )\n",
    "\n",
    "orders = benchmark.classes_order\n",
    "order_list = [orders[x:x+5] for x in range(0, len(orders), 5)]\n",
    "\n",
    "order_sample = [order[3:] for order in order_list]\n",
    "classname_list = []\n",
    "label_list = []\n",
    "classname_list_sep = []\n",
    "for order_l in order_sample:\n",
    "    label_list.append(order_l)\n",
    "    cur_classname = [integer_to_name[i] for i in order_l]\n",
    "    classname_list.append(cur_classname)\n",
    "classname_list_sep = [item for lists in classname_list for item in lists]\n",
    "label_list_sep = [item for lists in label_list for item in lists]\n",
    "print(label_list_sep)"
   ]
  },
  {
   "cell_type": "code",
   "execution_count": 27,
   "id": "6a53c70c-c898-46ef-8b76-96a0287d2b32",
   "metadata": {
    "tags": []
   },
   "outputs": [
    {
     "data": {
      "text/plain": [
       "[[36, 0, 54, 5, 20],\n",
       " [22, 45, 13, 83, 19],\n",
       " [26, 73, 16, 62, 33],\n",
       " [34, 98, 24, 74, 53],\n",
       " [10, 94, 51, 4, 32],\n",
       " [38, 81, 50, 40, 41],\n",
       " [30, 89, 69, 64, 21],\n",
       " [84, 14, 88, 49, 68],\n",
       " [6, 80, 57, 65, 46],\n",
       " [9, 91, 48, 72, 31],\n",
       " [76, 7, 47, 8, 1],\n",
       " [61, 75, 63, 18, 86],\n",
       " [59, 70, 43, 85, 95],\n",
       " [27, 93, 35, 25, 82],\n",
       " [44, 56, 67, 66, 37],\n",
       " [60, 11, 2, 78, 52],\n",
       " [97, 39, 55, 3, 99],\n",
       " [29, 71, 23, 28, 90],\n",
       " [87, 15, 92, 17, 77],\n",
       " [12, 42, 96, 79, 58]]"
      ]
     },
     "execution_count": 27,
     "metadata": {},
     "output_type": "execute_result"
    }
   ],
   "source": [
    "order_list"
   ]
  },
  {
   "cell_type": "code",
   "execution_count": 29,
   "id": "aab98046-a7a7-4791-abbb-ed72b7d2963e",
   "metadata": {
    "tags": []
   },
   "outputs": [],
   "source": [
    "order_list_names = []\n",
    "for l in order_list:\n",
    "    names = [integer_to_name[item] for item in l]\n",
    "    order_list_names.append(names)\n",
    "    "
   ]
  },
  {
   "cell_type": "code",
   "execution_count": 31,
   "id": "556b34e0-4dda-4fdd-99a8-d58ae73b4877",
   "metadata": {
    "tags": []
   },
   "outputs": [
    {
     "name": "stdout",
     "output_type": "stream",
     "text": [
      "[['hamster', 'apple', 'orchid', 'bed', 'chair'], ['clock', 'lobster', 'bus', 'sweet_pepper', 'cattle'], ['crab', 'shark', 'can', 'poppy', 'forest'], ['fox', 'woman', 'cockroach', 'shrew', 'orange'], ['bowl', 'wardrobe', 'mushroom', 'beaver', 'flatfish'], ['kangaroo', 'streetcar', 'mouse', 'lamp', 'lawn_mower'], ['dolphin', 'tractor', 'rocket', 'possum', 'chimpanzee'], ['table', 'butterfly', 'tiger', 'mountain', 'road'], ['bee', 'squirrel', 'pear', 'rabbit', 'man'], ['bottle', 'trout', 'motorcycle', 'seal', 'elephant'], ['skyscraper', 'beetle', 'maple_tree', 'bicycle', 'aquarium_fish'], ['plate', 'skunk', 'porcupine', 'caterpillar', 'telephone'], ['pine_tree', 'rose', 'lion', 'tank', 'whale'], ['crocodile', 'turtle', 'girl', 'couch', 'sunflower'], ['lizard', 'palm_tree', 'ray', 'raccoon', 'house'], ['plain', 'boy', 'baby', 'snake', 'oak_tree'], ['wolf', 'keyboard', 'otter', 'bear', 'worm'], ['dinosaur', 'sea', 'cloud', 'cup', 'train'], ['television', 'camel', 'tulip', 'castle', 'snail'], ['bridge', 'leopard', 'willow_tree', 'spider', 'pickup_truck']]\n"
     ]
    }
   ],
   "source": [
    "print(order_list_names)"
   ]
  },
  {
   "cell_type": "code",
   "execution_count": 36,
   "id": "b0c602fa-8730-49cc-b9e5-6dbccc95efd9",
   "metadata": {
    "tags": []
   },
   "outputs": [],
   "source": [
    "dict_syn2real_id_withinexperience = {}\n",
    "dict_syn2real_name_withinexperience = {}\n",
    "most_sim_all = []\n",
    "for l in order_list_names:\n",
    "    l_real, l_syn = l[:3], l[3:]\n",
    "    embedding_real, embedding_syn = model.encode(l_real), model.encode(l_syn)\n",
    "    sim_matrix = cosine_similarity(embedding_syn, embedding_real)\n",
    "    most_sim = []\n",
    "    for index, similarities in enumerate(sim_matrix):\n",
    "    # Get the index of the maximum similarity score in this row\n",
    "        max_index = similarities.argmax()\n",
    "        most_sim.append(l[max_index])\n",
    "    most_sim_all.append(most_sim)\n",
    "        \n",
    "    "
   ]
  },
  {
   "cell_type": "code",
   "execution_count": 37,
   "id": "47a24a36-c15e-48b4-9398-0948afbcb3e4",
   "metadata": {
    "tags": []
   },
   "outputs": [
    {
     "data": {
      "text/plain": [
       "[['hamster', 'orchid'],\n",
       " ['lobster', 'bus'],\n",
       " ['can', 'can'],\n",
       " ['fox', 'fox'],\n",
       " ['mushroom', 'mushroom'],\n",
       " ['streetcar', 'streetcar'],\n",
       " ['tractor', 'dolphin'],\n",
       " ['table', 'table'],\n",
       " ['squirrel', 'bee'],\n",
       " ['bottle', 'bottle'],\n",
       " ['skyscraper', 'beetle'],\n",
       " ['porcupine', 'plate'],\n",
       " ['rose', 'lion'],\n",
       " ['girl', 'girl'],\n",
       " ['lizard', 'ray'],\n",
       " ['baby', 'baby'],\n",
       " ['wolf', 'wolf'],\n",
       " ['cloud', 'cloud'],\n",
       " ['television', 'camel'],\n",
       " ['leopard', 'bridge']]"
      ]
     },
     "execution_count": 37,
     "metadata": {},
     "output_type": "execute_result"
    }
   ],
   "source": [
    "most_sim_all"
   ]
  },
  {
   "cell_type": "code",
   "execution_count": 38,
   "id": "d4cbae29-bb9c-4d12-bb40-5a1cb90e3a93",
   "metadata": {
    "tags": []
   },
   "outputs": [],
   "source": [
    "most_sim_all_id = []\n",
    "for l in most_sim_all:\n",
    "    sim_id = [name_to_integer[item] for item in l]\n",
    "    most_sim_all_id.append(sim_id)\n",
    "    "
   ]
  },
  {
   "cell_type": "code",
   "execution_count": 39,
   "id": "f1428ceb-eaf3-40f4-972b-a62c7b5b7ab6",
   "metadata": {
    "tags": []
   },
   "outputs": [
    {
     "data": {
      "text/plain": [
       "[[36, 54],\n",
       " [45, 13],\n",
       " [16, 16],\n",
       " [34, 34],\n",
       " [51, 51],\n",
       " [81, 81],\n",
       " [89, 30],\n",
       " [84, 84],\n",
       " [80, 6],\n",
       " [9, 9],\n",
       " [76, 7],\n",
       " [63, 61],\n",
       " [70, 43],\n",
       " [35, 35],\n",
       " [44, 67],\n",
       " [2, 2],\n",
       " [97, 97],\n",
       " [23, 23],\n",
       " [87, 15],\n",
       " [42, 12]]"
      ]
     },
     "execution_count": 39,
     "metadata": {},
     "output_type": "execute_result"
    }
   ],
   "source": [
    "most_sim_all_id"
   ]
  },
  {
   "cell_type": "code",
   "execution_count": 4,
   "id": "d441d4af-7183-450b-86e3-d51c56d3255d",
   "metadata": {},
   "outputs": [],
   "source": [
    "order_list = [[36, 0, 54, 5, 20],\n",
    " [22, 45, 13, 83, 19],\n",
    " [26, 73, 16, 62, 33],\n",
    " [34, 98, 24, 74, 53],\n",
    " [10, 94, 51, 4, 32],\n",
    " [38, 81, 50, 40, 41],\n",
    " [30, 89, 69, 64, 21],\n",
    " [84, 14, 88, 49, 68],\n",
    " [6, 80, 57, 65, 46],\n",
    " [9, 91, 48, 72, 31],\n",
    " [76, 7, 47, 8, 1],\n",
    " [61, 75, 63, 18, 86],\n",
    " [59, 70, 43, 85, 95],\n",
    " [27, 93, 35, 25, 82],\n",
    " [44, 56, 67, 66, 37],\n",
    " [60, 11, 2, 78, 52],\n",
    " [97, 39, 55, 3, 99],\n",
    " [29, 71, 23, 28, 90],\n",
    " [87, 15, 92, 17, 77],\n",
    " [12, 42, 96, 79, 58]]\n",
    "\n",
    "most_sim_id = [[36, 54],\n",
    " [45, 13],\n",
    " [16, 16],\n",
    " [34, 34],\n",
    " [51, 51],\n",
    " [81, 81],\n",
    " [89, 30],\n",
    " [84, 84],\n",
    " [80, 6],\n",
    " [9, 9],\n",
    " [76, 7],\n",
    " [63, 61],\n",
    " [70, 43],\n",
    " [35, 35],\n",
    " [44, 67],\n",
    " [2, 2],\n",
    " [97, 97],\n",
    " [23, 23],\n",
    " [87, 15],\n",
    " [42, 12]]\n",
    "order_list_names = [['hamster', 'apple', 'orchid', 'bed', 'chair'], ['clock', 'lobster', 'bus', 'sweet_pepper', 'cattle'], ['crab', 'shark', 'can', 'poppy', 'forest'], ['fox', 'woman', 'cockroach', 'shrew', 'orange'], ['bowl', 'wardrobe', 'mushroom', 'beaver', 'flatfish'], ['kangaroo', 'streetcar', 'mouse', 'lamp', 'lawn_mower'], ['dolphin', 'tractor', 'rocket', 'possum', 'chimpanzee'], ['table', 'butterfly', 'tiger', 'mountain', 'road'], ['bee', 'squirrel', 'pear', 'rabbit', 'man'], ['bottle', 'trout', 'motorcycle', 'seal', 'elephant'], ['skyscraper', 'beetle', 'maple_tree', 'bicycle', 'aquarium_fish'], ['plate', 'skunk', 'porcupine', 'caterpillar', 'telephone'], ['pine_tree', 'rose', 'lion', 'tank', 'whale'], ['crocodile', 'turtle', 'girl', 'couch', 'sunflower'], ['lizard', 'palm_tree', 'ray', 'raccoon', 'house'], ['plain', 'boy', 'baby', 'snake', 'oak_tree'], ['wolf', 'keyboard', 'otter', 'bear', 'worm'], ['dinosaur', 'sea', 'cloud', 'cup', 'train'], ['television', 'camel', 'tulip', 'castle', 'snail'], ['bridge', 'leopard', 'willow_tree', 'spider', 'pickup_truck']]\n",
    "sim_names = [['hamster', 'orchid'],\n",
    " ['lobster', 'bus'],\n",
    " ['can', 'can'],\n",
    " ['fox', 'fox'],\n",
    " ['mushroom', 'mushroom'],\n",
    " ['streetcar', 'streetcar'],\n",
    " ['tractor', 'dolphin'],\n",
    " ['table', 'table'],\n",
    " ['squirrel', 'bee'],\n",
    " ['bottle', 'bottle'],\n",
    " ['skyscraper', 'beetle'],\n",
    " ['porcupine', 'plate'],\n",
    " ['rose', 'lion'],\n",
    " ['girl', 'girl'],\n",
    " ['lizard', 'ray'],\n",
    " ['baby', 'baby'],\n",
    " ['wolf', 'wolf'],\n",
    " ['cloud', 'cloud'],\n",
    " ['television', 'camel'],\n",
    " ['leopard', 'bridge']]"
   ]
  },
  {
   "cell_type": "code",
   "execution_count": 5,
   "id": "e91c8d00",
   "metadata": {},
   "outputs": [],
   "source": [
    "expsim_dict = {}\n",
    "syn_classes = [item[3:] for item in order_list_names]\n",
    "for i, l in enumerate(syn_classes):\n",
    "    for j, item in enumerate(l):\n",
    "        expsim_dict[item] = sim_names[i][j]"
   ]
  },
  {
   "cell_type": "code",
   "execution_count": 6,
   "id": "550b20ed",
   "metadata": {},
   "outputs": [
    {
     "name": "stdout",
     "output_type": "stream",
     "text": [
      "{'bed': 'hamster', 'chair': 'orchid', 'sweet_pepper': 'lobster', 'cattle': 'bus', 'poppy': 'can', 'forest': 'can', 'shrew': 'fox', 'orange': 'fox', 'beaver': 'mushroom', 'flatfish': 'mushroom', 'lamp': 'streetcar', 'lawn_mower': 'streetcar', 'possum': 'tractor', 'chimpanzee': 'dolphin', 'mountain': 'table', 'road': 'table', 'rabbit': 'squirrel', 'man': 'bee', 'seal': 'bottle', 'elephant': 'bottle', 'bicycle': 'skyscraper', 'aquarium_fish': 'beetle', 'caterpillar': 'porcupine', 'telephone': 'plate', 'tank': 'rose', 'whale': 'lion', 'couch': 'girl', 'sunflower': 'girl', 'raccoon': 'lizard', 'house': 'ray', 'snake': 'baby', 'oak_tree': 'baby', 'bear': 'wolf', 'worm': 'wolf', 'cup': 'cloud', 'train': 'cloud', 'castle': 'television', 'snail': 'camel', 'spider': 'leopard', 'pickup_truck': 'bridge'}\n"
     ]
    }
   ],
   "source": [
    "print(expsim_dict)"
   ]
  },
  {
   "cell_type": "code",
   "execution_count": null,
   "id": "ad72c383",
   "metadata": {},
   "outputs": [],
   "source": []
  }
 ],
 "metadata": {
  "kernelspec": {
   "display_name": "Python 3 (ipykernel)",
   "language": "python",
   "name": "python3"
  },
  "language_info": {
   "codemirror_mode": {
    "name": "ipython",
    "version": 3
   },
   "file_extension": ".py",
   "mimetype": "text/x-python",
   "name": "python",
   "nbconvert_exporter": "python",
   "pygments_lexer": "ipython3",
   "version": "3.7.16"
  }
 },
 "nbformat": 4,
 "nbformat_minor": 5
}
